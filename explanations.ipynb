{
 "cells": [
  {
   "cell_type": "code",
   "execution_count": null,
   "id": "f965ae4f",
   "metadata": {},
   "outputs": [],
   "source": [
    "from initialise import *\n",
    "\n",
    "with open('modelling_data.pickle', 'rb') as file:\n",
    "    modelling_data = pickle.load(file)"
   ]
  },
  {
   "cell_type": "code",
   "execution_count": null,
   "id": "4577e7dc",
   "metadata": {},
   "outputs": [],
   "source": [
    "# Confusion Matrix"
   ]
  },
  {
   "cell_type": "code",
   "execution_count": null,
   "id": "c403f069",
   "metadata": {},
   "outputs": [],
   "source": [
    "# ROC-AUC"
   ]
  },
  {
   "cell_type": "code",
   "execution_count": null,
   "id": "5e37bb66",
   "metadata": {},
   "outputs": [],
   "source": [
    "# Feature Importance Plot"
   ]
  },
  {
   "cell_type": "code",
   "execution_count": null,
   "id": "07658975",
   "metadata": {},
   "outputs": [],
   "source": [
    "# Shapley Values"
   ]
  }
 ],
 "metadata": {
  "language_info": {
   "name": "python"
  }
 },
 "nbformat": 4,
 "nbformat_minor": 5
}
