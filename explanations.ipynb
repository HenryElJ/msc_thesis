{
 "cells": [
  {
   "cell_type": "code",
   "execution_count": 2,
   "id": "f965ae4f",
   "metadata": {},
   "outputs": [],
   "source": [
    "from initialise import *\n",
    "\n",
    "%matplotlib inline\n",
    "\n",
    "with open('modelling_output.pickle', 'rb') as file:\n",
    "    modelling_output = pickle.load(file)"
   ]
  },
  {
   "cell_type": "code",
   "execution_count": 3,
   "id": "7bb64d67",
   "metadata": {},
   "outputs": [
    {
     "name": "stdout",
     "output_type": "stream",
     "text": [
      "Classification report for logreg\n",
      "------------------------------------------------------------\n",
      "              precision    recall  f1-score   support\n",
      "\n",
      "           0       0.61      0.41      0.49       190\n",
      "           1       0.80      0.90      0.85       506\n",
      "\n",
      "    accuracy                           0.77       696\n",
      "   macro avg       0.71      0.65      0.67       696\n",
      "weighted avg       0.75      0.77      0.75       696\n",
      "\n",
      "============================================================\n",
      "\n",
      "\n",
      "\n",
      "Classification report for rf\n",
      "------------------------------------------------------------\n",
      "              precision    recall  f1-score   support\n",
      "\n",
      "           0       0.66      0.40      0.50       190\n",
      "           1       0.80      0.92      0.86       506\n",
      "\n",
      "    accuracy                           0.78       696\n",
      "   macro avg       0.73      0.66      0.68       696\n",
      "weighted avg       0.76      0.78      0.76       696\n",
      "\n",
      "============================================================\n",
      "\n",
      "\n",
      "\n",
      "Classification report for xgb\n",
      "------------------------------------------------------------\n",
      "              precision    recall  f1-score   support\n",
      "\n",
      "           0       0.77      0.14      0.24       190\n",
      "           1       0.75      0.98      0.85       506\n",
      "\n",
      "    accuracy                           0.75       696\n",
      "   macro avg       0.76      0.56      0.55       696\n",
      "weighted avg       0.76      0.75      0.69       696\n",
      "\n",
      "============================================================\n",
      "\n",
      "\n",
      "\n"
     ]
    }
   ],
   "source": [
    "# Classification report\n",
    "for x in [\"logreg\", \"rf\", \"xgb\"]:\n",
    "\n",
    "    y_true = modelling_output[\"predictions\"].query(f\"model == '{x}'\")[\"actual\"]\n",
    "    y_pred = modelling_output[\"predictions\"].query(f\"model == '{x}'\")[\"predicted_binary\"]\n",
    "    \n",
    "    print(f\"Classification report for {x}\\n{'-' * 60}\")\n",
    "    print(\n",
    "        metrics.classification_report(y_true, y_pred)\n",
    "    )\n",
    "    print(\"=\" * 60, end = \"\\n\" * 4)"
   ]
  },
  {
   "cell_type": "code",
   "execution_count": null,
   "id": "ea70f2d3",
   "metadata": {},
   "outputs": [],
   "source": [
    "# This is definitely overkill...\n",
    "\n",
    "# classification_metrics = {}\n",
    "\n",
    "# y_true = modelling_output[\"predictions\"].query(f\"model == 'rf'\")[\"actual\"],\n",
    "# y_pred = modelling_output[\"predictions\"].query(f\"model == 'rf'\")[\"predicted_binary\"]\n"
   ]
  },
  {
   "cell_type": "markdown",
   "id": "4d99d251",
   "metadata": {},
   "source": [
    "##### [Explainer Dashboard](https://explainerdashboard.readthedocs.io/en/latest/)"
   ]
  },
  {
   "cell_type": "code",
   "execution_count": 4,
   "id": "e9002a75",
   "metadata": {},
   "outputs": [
    {
     "name": "stdout",
     "output_type": "stream",
     "text": [
      "splitting pipeline...\n",
      "Detected sklearn/imblearn Pipeline and succesfully extracted final output dataframe with column names and final model...\n",
      "Detected RandomForestClassifier model: Changing class type to RandomForestClassifierExplainer...\n",
      "Note: model_output=='probability', so assuming that raw shap output of RandomForestClassifier is in probability space...\n",
      "Generating self.shap_explainer = shap.TreeExplainer(model)\n"
     ]
    }
   ],
   "source": [
    "explainer = explainerdashboard.ClassifierExplainer(modelling_output[\"rf_model\"].fit(modelling_output[\"X_train\"], modelling_output[\"y_train\"]), \n",
    "                                                   modelling_output[\"X_test\"], modelling_output[\"y_test\"])"
   ]
  },
  {
   "cell_type": "code",
   "execution_count": null,
   "id": "dd080eb6",
   "metadata": {},
   "outputs": [],
   "source": [
    "cf = explainer.plot_confusion_matrix()\n",
    "imp = explainer.plot_importances()\n",
    "roc_auc = explainer.plot_roc_auc()"
   ]
  },
  {
   "cell_type": "code",
   "execution_count": 11,
   "id": "fc6430fc",
   "metadata": {},
   "outputs": [],
   "source": [
    "explanations_output = {\n",
    "    \"confusion_matrix\": cf,\n",
    "    \"feature_importance\": imp,\n",
    "    \"roc_auc\": roc_auc\n",
    "}\n",
    "\n",
    "with open(\"explanations_output.pickle\", \"wb\") as file:\n",
    "    pickle.dump(explanations_output, file, protocol = pickle.HIGHEST_PROTOCOL)"
   ]
  },
  {
   "cell_type": "markdown",
   "id": "28946220",
   "metadata": {},
   "source": [
    "##### [Shapley Values](https://shap.readthedocs.io/en/latest/index.html)"
   ]
  },
  {
   "cell_type": "code",
   "execution_count": null,
   "id": "07658975",
   "metadata": {},
   "outputs": [],
   "source": [
    "explainer = shap.Explainer(modelling_output[\"xgb_model\"].fit(modelling_output[\"X_train\"], modelling_output[\"y_train\"]).predict, # https://github.com/shap/shap/issues/2399\n",
    "                           modelling_output[\"X_train\"])\n",
    "\n",
    "shap_values = explainer(modelling_output[\"X_train\"])"
   ]
  },
  {
   "cell_type": "code",
   "execution_count": null,
   "id": "92133c25",
   "metadata": {},
   "outputs": [],
   "source": [
    "shap.plots.bar(shap_values)"
   ]
  },
  {
   "cell_type": "code",
   "execution_count": null,
   "id": "5d099263",
   "metadata": {},
   "outputs": [],
   "source": [
    "shap.plots.bar(shap_values.abs.max(0))"
   ]
  },
  {
   "cell_type": "code",
   "execution_count": null,
   "id": "9b5e966b",
   "metadata": {},
   "outputs": [],
   "source": [
    "shap.plots.waterfall(shap_values[0])"
   ]
  },
  {
   "cell_type": "code",
   "execution_count": null,
   "id": "cec46166",
   "metadata": {},
   "outputs": [],
   "source": [
    "shap.initjs() # https://github.com/shap/shap/issues/279\n",
    "shap.plots.force(shap_values[0])"
   ]
  },
  {
   "cell_type": "code",
   "execution_count": null,
   "id": "3a8d0351",
   "metadata": {},
   "outputs": [],
   "source": [
    "best_params_ = {'xgb__subsample': 0.6, 'xgb__scale_pos_weight': 2, 'xgb__reg_lambda': 100, 'xgb__reg_alpha': 0.1, 'xgb__n_estimators': 100, 'xgb__min_child_weight': 10, 'xgb__max_depth': 3, 'xgb__learning_rate': 0.1, 'xgb__gamma': 0.3, 'xgb__colsample_bytree': 0.8}\n",
    "xgb_tuned_pipe = Pipeline([(\"scaler\", StandardScaler()), (\"xgb_tuned\", XGBClassifier(**{x.replace(\"xgb__\", \"\"): v for x, v in best_params_.items()}))])"
   ]
  },
  {
   "cell_type": "code",
   "execution_count": null,
   "id": "8dec5eef",
   "metadata": {},
   "outputs": [],
   "source": [
    "shap.force_plot(shap_values[:500,])"
   ]
  },
  {
   "cell_type": "code",
   "execution_count": null,
   "id": "18f3c633",
   "metadata": {},
   "outputs": [],
   "source": [
    "shap.plots.beeswarm(shap_values)"
   ]
  },
  {
   "cell_type": "code",
   "execution_count": null,
   "id": "3eba2582",
   "metadata": {},
   "outputs": [],
   "source": [
    "shap.plots.beeswarm(shap_values.abs, color = \"shap_red\")"
   ]
  },
  {
   "cell_type": "code",
   "execution_count": null,
   "id": "bac009c9",
   "metadata": {},
   "outputs": [],
   "source": [
    "shap.plots.heatmap(shap_values[:1000])"
   ]
  },
  {
   "cell_type": "code",
   "execution_count": null,
   "id": "d254b226",
   "metadata": {},
   "outputs": [],
   "source": [
    "shap.plots.scatter(shap_values[:, \"age\"])"
   ]
  },
  {
   "cell_type": "code",
   "execution_count": null,
   "id": "cc38b630",
   "metadata": {},
   "outputs": [],
   "source": [
    "shap.plots.scatter(shap_values[:, \"age\"], color = shap_values)"
   ]
  },
  {
   "cell_type": "code",
   "execution_count": null,
   "id": "ebd83071",
   "metadata": {},
   "outputs": [],
   "source": [
    "shap.plots.scatter(shap_values[:, \"age\"], color = shap_values[:, \"mask wearing\"])"
   ]
  }
 ],
 "metadata": {
  "kernelspec": {
   "display_name": "thesis_3.11",
   "language": "python",
   "name": "python3"
  },
  "language_info": {
   "codemirror_mode": {
    "name": "ipython",
    "version": 3
   },
   "file_extension": ".py",
   "mimetype": "text/x-python",
   "name": "python",
   "nbconvert_exporter": "python",
   "pygments_lexer": "ipython3",
   "version": "3.11.11"
  }
 },
 "nbformat": 4,
 "nbformat_minor": 5
}
